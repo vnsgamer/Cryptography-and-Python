{
 "cells": [
  {
   "cell_type": "markdown",
   "metadata": {},
   "source": [
    "# Cryptograpy app"
   ]
  },
  {
   "cell_type": "code",
   "execution_count": 2,
   "metadata": {},
   "outputs": [],
   "source": [
    "import onetimepad"
   ]
  },
  {
   "cell_type": "code",
   "execution_count": 3,
   "metadata": {},
   "outputs": [],
   "source": [
    "from tkinter import *"
   ]
  },
  {
   "cell_type": "code",
   "execution_count": 4,
   "metadata": {},
   "outputs": [
    {
     "name": "stdout",
     "output_type": "stream",
     "text": [
      "working Arun encrypted value is  13131b0a\n",
      "working dcrypted text is  Arun\n"
     ]
    }
   ],
   "source": [
    "root = Tk()\n",
    "root.title(\"Cryptography App\")\n",
    "\n",
    "def encryptmessage():\n",
    "    a=var.get()\n",
    "    ct=onetimepad.encrypt(a,\"Random\")\n",
    "    print(\"working\",a,\"encrypted value is \",ct)\n",
    "    \n",
    "    e2.delete(0,END)\n",
    "    e2.insert(END,ct)\n",
    "\n",
    "def decryptmessage():\n",
    "    a=var2.get()\n",
    "    ct=onetimepad.decrypt(a,\"Random\")\n",
    "    print(\"working\",\"dcrypted text is \",ct)\n",
    "    \n",
    "    e4.delete(0,END)\n",
    "    e4.insert(END,ct)\n",
    "    \n",
    "    \n",
    "    \n",
    "l1= Label(root,text=\"   Plain    Text   \",bg=\"violet\")\n",
    "l1.grid(row=0,column=0)\n",
    "\n",
    "l3= Label(root,text=\"Encrypted Text\",bg=\"violet\")\n",
    "l3.grid(row=0,column=2)\n",
    "\n",
    "var2=StringVar()\n",
    "e3 = Entry(root,textvariable=var2,bg=\"bisque\")\n",
    "e3.grid(row=0,column=3)\n",
    "\n",
    "var=StringVar()\n",
    "e1 = Entry(root,textvariable=var,bg=\"bisque\")\n",
    "e1.grid(row=0,column=1)\n",
    "\n",
    "l2= Label(root,text=\"Encrypted Text\",bg=\"plum\")\n",
    "l2.grid(row=1,column=0)\n",
    "\n",
    "l4= Label(root,text=\"   Plain    Text   \",bg=\"plum\")\n",
    "l4.grid(row=1,column=2)\n",
    "\n",
    "e2 = Entry(root,bg=\"moccasin\")\n",
    "e2.grid(row=1,column=1)\n",
    "\n",
    "e4 = Entry(root,bg=\"moccasin\")\n",
    "e4.grid(row=1,column=3)\n",
    "\n",
    "b1=Button(root,text=\"Encryption\",bg=\"cadetblue\",fg=\"red\",command=encryptmessage)\n",
    "b1.grid(row=2,column=1)\n",
    "\n",
    "b2=Button(root,text=\"Dcryption\",bg=\"cadetblue\",fg=\"red\",command=decryptmessage)\n",
    "b2.grid(row=2,column=3)\n",
    "\n",
    "\n",
    "root.mainloop()"
   ]
  },
  {
   "cell_type": "code",
   "execution_count": null,
   "metadata": {},
   "outputs": [],
   "source": []
  },
  {
   "cell_type": "code",
   "execution_count": null,
   "metadata": {},
   "outputs": [],
   "source": []
  },
  {
   "cell_type": "code",
   "execution_count": 56,
   "metadata": {},
   "outputs": [],
   "source": []
  },
  {
   "cell_type": "code",
   "execution_count": null,
   "metadata": {},
   "outputs": [],
   "source": []
  },
  {
   "cell_type": "code",
   "execution_count": null,
   "metadata": {},
   "outputs": [],
   "source": []
  },
  {
   "cell_type": "code",
   "execution_count": null,
   "metadata": {},
   "outputs": [],
   "source": []
  }
 ],
 "metadata": {
  "kernelspec": {
   "display_name": "Python 3",
   "language": "python",
   "name": "python3"
  },
  "language_info": {
   "codemirror_mode": {
    "name": "ipython",
    "version": 3
   },
   "file_extension": ".py",
   "mimetype": "text/x-python",
   "name": "python",
   "nbconvert_exporter": "python",
   "pygments_lexer": "ipython3",
   "version": "3.8.5"
  }
 },
 "nbformat": 4,
 "nbformat_minor": 4
}
